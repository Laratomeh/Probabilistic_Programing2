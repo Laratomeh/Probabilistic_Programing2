{
  "nbformat": 4,
  "nbformat_minor": 0,
  "metadata": {
    "colab": {
      "name": "Sanity_Bayesian_neural_network.ipynb",
      "provenance": []
    },
    "kernelspec": {
      "name": "python3",
      "display_name": "Python 3"
    },
    "language_info": {
      "name": "python"
    }
  },
  "cells": [
    {
      "cell_type": "code",
      "source": [
        "! pip install pymc"
      ],
      "metadata": {
        "id": "M5el6Ud3KbCf",
        "colab": {
          "base_uri": "https://localhost:8080/"
        },
        "outputId": "98e4be75-3ac7-443f-943c-263d5d5fb576"
      },
      "execution_count": 1,
      "outputs": [
        {
          "output_type": "stream",
          "name": "stdout",
          "text": [
            "Requirement already satisfied: pymc in /usr/local/lib/python3.7/dist-packages (2.3.8)\n"
          ]
        }
      ]
    },
    {
      "cell_type": "code",
      "source": [
        "import numpy as np\n",
        "import pymc as pm\n",
        "from matplotlib import pyplot as plt"
      ],
      "metadata": {
        "colab": {
          "base_uri": "https://localhost:8080/"
        },
        "id": "NyWnbdDJbQr2",
        "outputId": "2ff819d0-2442-40d5-da8c-77567d7d8f7d"
      },
      "execution_count": 2,
      "outputs": [
        {
          "output_type": "stream",
          "name": "stderr",
          "text": [
            "/usr/local/lib/python3.7/dist-packages/statsmodels/tools/_testing.py:19: FutureWarning: pandas.util.testing is deprecated. Use the functions in the public API at pandas.testing instead.\n",
            "  import pandas.util.testing as tm\n"
          ]
        }
      ]
    },
    {
      "cell_type": "code",
      "source": [
        "# Generate random data\n",
        "def generate_data(size):\n",
        "    x = np.random.randn(size, 2)\n",
        "    y = np.tanh(x[:, 0] + x[:, 1])\n",
        "    y = 1. / (1. + np.exp(-(y + y)))\n",
        "    y = y > 0.5\n",
        "    return x, y"
      ],
      "metadata": {
        "id": "pK_G1IQabTwC"
      },
      "execution_count": 3,
      "outputs": []
    },
    {
      "cell_type": "code",
      "source": [
        "# Define Variables\n",
        "iterations = 10000\n",
        "number_of_samples = 1200\n",
        "\n",
        "# Define training data\n",
        "X_train, Y_train = generate_data(100)"
      ],
      "metadata": {
        "id": "qoAtRxt4bVpr"
      },
      "execution_count": 4,
      "outputs": []
    },
    {
      "cell_type": "code",
      "source": [
        "# Define neural network\n",
        "w11 = pm.Normal('w11', mu=0., tau=1.)\n",
        "w12 = pm.Normal('w12', mu=0., tau=1.)\n",
        "w21 = pm.Normal('w21', mu=0., tau=1.)\n",
        "w22 = pm.Normal('w22', mu=0., tau=1.)\n",
        "w31 = pm.Normal('w31', mu=0., tau=1.)\n",
        "w32 = pm.Normal('w32', mu=0., tau=1.)\n",
        "\n",
        "x1 = X_train[:, 0]\n",
        "x2 = X_train[:, 1]\n",
        "\n",
        "x3 = pm.Lambda('x3', lambda w1=w11, w2=w12: np.tanh(w1 * x1 + w2 * x2))\n",
        "x4 = pm.Lambda('x4', lambda w1=w21, w2=w22: np.tanh(w1 * x1 + w2 * x2))\n",
        "\n",
        "\n",
        "@pm.deterministic\n",
        "def sigmoid(x=w31 * x3 + w32 * x4):\n",
        "    return 1. / (1. + np.exp(-x))\n",
        "y = pm.Bernoulli('y', sigmoid, observed=True, value=Y_train)\n",
        "\n",
        "# Train the model\n",
        "model = pm.Model([w11, w12, w21, w22, w31, w32, y])\n",
        "inference = pm.MCMC(model)\n",
        "inference.sample(iterations)\n",
        "y_pred_train = pm.Bernoulli('y_pred_train', sigmoid)"
      ],
      "metadata": {
        "colab": {
          "base_uri": "https://localhost:8080/"
        },
        "id": "IM51h6aFbXjy",
        "outputId": "ea36beb3-28b0-4e22-ffb4-5d97f0781ef1"
      },
      "execution_count": 5,
      "outputs": [
        {
          "output_type": "stream",
          "name": "stderr",
          "text": [
            "/usr/local/lib/python3.7/dist-packages/pymc/MCMC.py:81: UserWarning: Instantiating a Model object directly is deprecated. We recommend passing variables directly to the Model subclass.\n",
            "  warnings.warn(message)\n"
          ]
        },
        {
          "output_type": "stream",
          "name": "stdout",
          "text": [
            " [-----------------100%-----------------] 10000 of 10000 complete in 4.1 sec"
          ]
        }
      ]
    },
    {
      "cell_type": "code",
      "execution_count": 6,
      "metadata": {
        "colab": {
          "base_uri": "https://localhost:8080/",
          "height": 1000
        },
        "id": "IzItw116IdxI",
        "outputId": "7c869693-3514-4837-821e-e6e0ca237bdc"
      },
      "outputs": [
        {
          "output_type": "display_data",
          "data": {
            "image/png": "[encoded data removed]",
            "text/plain": [
              "<Figure size 432x288 with 1 Axes>"
            ]
          },
          "metadata": {
            "needs_background": "light"
          }
        },
        {
          "output_type": "display_data",
          "data": {
            "image/png": "[encoded data removed]",
            "text/plain": [
              "<Figure size 432x288 with 1 Axes>"
            ]
          },
          "metadata": {
            "needs_background": "light"
          }
        },
        {
          "output_type": "display_data",
          "data": {
            "image/png": "[encoded data removed]",
            "text/plain": [
              "<Figure size 432x288 with 1 Axes>"
            ]
          },
          "metadata": {
            "needs_background": "light"
          }
        },
        {
          "output_type": "display_data",
          "data": {
            "image/png": "[encoded data removed]",
            "text/plain": [
              "<Figure size 432x288 with 1 Axes>"
            ]
          },
          "metadata": {
            "needs_background": "light"
          }
        },
        {
          "output_type": "display_data",
          "data": {
            "image/png": "[encoded data removed]",
            "text/plain": [
              "<Figure size 432x288 with 1 Axes>"
            ]
          },
          "metadata": {
            "needs_background": "light"
          }
        },
        {
          "output_type": "display_data",
          "data": {
            "image/png": "[encoded data removed]",
            "text/plain": [
              "<Figure size 432x288 with 1 Axes>"
            ]
          },
          "metadata": {
            "needs_background": "light"
          }
        }
      ],
      "source": [
        "# Plot the values of posterior weight\n",
        "w11 = inference.trace(\"w11\")[:]\n",
        "plt.hist(w11)\n",
        "plt.title('Posterior of w11')\n",
        "plt.show()\n",
        "\n",
        "w12 = inference.trace(\"w12\")[:]\n",
        "plt.hist(w12)\n",
        "plt.title('Posterior of w12')\n",
        "plt.show()\n",
        "\n",
        "w21 = inference.trace(\"w21\")[:]\n",
        "plt.hist(w21)\n",
        "plt.title('Posterior of w21')\n",
        "plt.show()\n",
        "\n",
        "w22 = inference.trace(\"w22\")[:]\n",
        "plt.hist(w22)\n",
        "plt.title('Posterior of w22')\n",
        "plt.show()\n",
        "\n",
        "w31 = inference.trace(\"w31\")[:]\n",
        "plt.hist(w31)\n",
        "plt.title('Posterior of w31')\n",
        "plt.show()\n",
        "\n",
        "w32 = inference.trace(\"w32\")[:]\n",
        "plt.hist(w32)\n",
        "plt.title('Posterior of w32')\n",
        "plt.show()"
      ]
    },
    {
      "cell_type": "code",
      "source": [
        "# Generate test data for evaluation\n",
        "X_test, Y_test = generate_data(100)\n",
        "\n",
        "x1 = X_test[:, 0]\n",
        "x2 = X_test[:, 1]\n",
        "\n",
        "inference.sample(iterations)\n",
        "y_pred_test = pm.Bernoulli('y_pred_test', sigmoid)"
      ],
      "metadata": {
        "colab": {
          "base_uri": "https://localhost:8080/"
        },
        "id": "rPXy1FK3brHh",
        "outputId": "65ac79cf-6981-499d-a578-c679c296fcad"
      },
      "execution_count": 7,
      "outputs": [
        {
          "output_type": "stream",
          "name": "stdout",
          "text": [
            " [-----------------100%-----------------] 10000 of 10000 complete in 4.3 sec"
          ]
        }
      ]
    },
    {
      "cell_type": "code",
      "source": [
        "# Check the accuracy of the training data and the testing data \n",
        "print(\"\\nOne sample of weights (w11, w12, w21, w22, w31, w32):\\n\", w11[-1], w12[-1], w21[-1], w22[-1], w31[-1], w32[-1])\n",
        "print(\"Accuracy on train data: \", (y_pred_train.value == Y_train).mean())\n",
        "print(\"Accuracy on test data: \", (y_pred_test.value == Y_test).mean())"
      ],
      "metadata": {
        "colab": {
          "base_uri": "https://localhost:8080/"
        },
        "id": "gZK8HA4keLPh",
        "outputId": "231f11a6-2418-48b1-c7f6-92da3cf38df7"
      },
      "execution_count": 8,
      "outputs": [
        {
          "output_type": "stream",
          "name": "stdout",
          "text": [
            "\n",
            "One sample of weights (w11, w12, w21, w22, w31, w32):\n",
            " -1.803473367968266 -2.015820793546361 1.7753129349118821 2.6238833726381823 -2.0068490161402366 0.8543951424217191\n",
            "Accuracy on train data:  0.92\n",
            "Accuracy on test data:  0.85\n"
          ]
        }
      ]
    }
  ]
}