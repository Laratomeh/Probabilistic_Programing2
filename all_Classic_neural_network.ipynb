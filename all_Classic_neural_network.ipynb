{
  "nbformat": 4,
  "nbformat_minor": 0,
  "metadata": {
    "colab": {
      "name": "all_Classic_neural_network.ipynb",
      "provenance": []
    },
    "kernelspec": {
      "name": "python3",
      "display_name": "Python 3"
    },
    "language_info": {
      "name": "python"
    }
  },
  "cells": [
    {
      "cell_type": "markdown",
      "source": [
        "Classic Neural Network - Sanity Check"
      ],
      "metadata": {
        "id": "u37TAl_YLHLP"
      }
    },
    {
      "cell_type": "code",
      "source": [
        "import numpy as np\n",
        "import matplotlib.pyplot as plt"
      ],
      "metadata": {
        "id": "ftazDErhWcSz"
      },
      "execution_count": 1,
      "outputs": []
    },
    {
      "cell_type": "code",
      "source": [
        "# Generate random data\n",
        "def generate_data(size):\n",
        "    x = np.random.randn(size, 2)\n",
        "    y = np.tanh(x[:, 0] + x[:, 1])\n",
        "    y = 1. / (1. + np.exp(-(y + y)))\n",
        "    y = y > 0.5\n",
        "    return x, y"
      ],
      "metadata": {
        "id": "HC5-Qk9NWfUI"
      },
      "execution_count": 2,
      "outputs": []
    },
    {
      "cell_type": "code",
      "source": [
        "# Define Variables\n",
        "iterations = 100000\n",
        "number_of_samples = 100\n",
        "# Define training data\n",
        "X_train, Y_train = generate_data(100)"
      ],
      "metadata": {
        "id": "V6e9cdnbWhMQ"
      },
      "execution_count": 3,
      "outputs": []
    },
    {
      "cell_type": "code",
      "source": [
        "def sigmoid(x):\n",
        "    return 1. / (1. + np.exp(-x))\n",
        "# Define weights\n",
        "w11 = np.random.randn(1, 100)\n",
        "w12 = np.random.randn(1, 100)\n",
        "w21 = np.random.randn(1, 100)\n",
        "w22 = np.random.randn(1, 100)\n",
        "w31 = np.random.randn(1, 100)\n",
        "w32 = np.random.randn(1, 100)\n",
        "x1 = X_train[:, 0]\n",
        "x2 = X_train[:, 1]\n",
        "# Define the layer\n",
        "l0 = []"
      ],
      "metadata": {
        "id": "ylrP5EA-WkmP"
      },
      "execution_count": 4,
      "outputs": []
    },
    {
      "cell_type": "code",
      "source": [
        "for _ in range(iterations):\n",
        "    x3 = np.tanh(w11 * x1 + w12 * x2)\n",
        "    x4 = np.tanh(w21 * x1 + w22 * x2)\n",
        "    l0 = sigmoid(w31 * x3 + w32 * x4)\n",
        "    l1_error = Y_train - l0\n",
        "    l1_delta = l1_error * sigmoid(l0)\n",
        "    w11 += x1 * l1_delta\n",
        "    w12 += x2 * l1_delta\n",
        "    w21 += x1 * l1_delta\n",
        "    w22 += x2 * l1_delta\n",
        "    w31 += x1 * l1_delta\n",
        "    w32 += x2 * l1_delta"
      ],
      "metadata": {
        "id": "oLKahOW1KQhp"
      },
      "execution_count": 5,
      "outputs": []
    },
    {
      "cell_type": "code",
      "source": [
        "# Print the accuracy of train data and test data\n",
        "print(\"\\nOne sample of weights (w11, w12, w21, w22, w31, w32):\\n\", w11[-1][-1], w12[-1][-1], w21[-1][-1], w22[-1][-1],\n",
        "      w31[-1][-1], w32[-1][-1])\n",
        "l0[l0 < 0.5] = 0\n",
        "l0[l0 >= 0.5] = 1\n",
        "print(\"Accuracy on train data: \", (Y_train == l0).mean())\n",
        "\n",
        "X_test, Y_test = generate_data(100)\n",
        "x1 = X_test[:, 0]\n",
        "x2 = X_test[:, 1]\n",
        "x3 = np.tanh(w11 * x1 + w12 * x2)\n",
        "x4 = np.tanh(w21 * x1 + w22 * x2)\n",
        "l1_test = sigmoid(w31 * x3 + w32 * x4)\n",
        "l1_test[l1_test < 0.5] = 0\n",
        "l1_test[l1_test >= 0.5] = 1\n",
        "print(\"Accuracy on test data: \", (Y_test == l1_test).mean())"
      ],
      "metadata": {
        "colab": {
          "base_uri": "https://localhost:8080/"
        },
        "id": "B67tcy9nKSjT",
        "outputId": "16987196-6f29-44a9-b56c-208b7c62e122"
      },
      "execution_count": 6,
      "outputs": [
        {
          "output_type": "stream",
          "name": "stdout",
          "text": [
            "\n",
            "One sample of weights (w11, w12, w21, w22, w31, w32):\n",
            " 10.701910685577838 1.3431029919992339 10.771154790127595 -0.9064395202316625 10.143985352954644 2.083379507181506\n",
            "Accuracy on train data:  1.0\n",
            "Accuracy on test data:  0.76\n"
          ]
        }
      ]
    },
    {
      "cell_type": "markdown",
      "source": [
        "Classic Neural Network - Binary classification"
      ],
      "metadata": {
        "id": "OeyIVMZILOND"
      }
    },
    {
      "cell_type": "code",
      "source": [
        "import scipy\n",
        "from sklearn.datasets import make_moons\n",
        "from sklearn.model_selection import train_test_split\n",
        "from sklearn.preprocessing import scale"
      ],
      "metadata": {
        "id": "9ZCZyV21KVwj"
      },
      "execution_count": 7,
      "outputs": []
    },
    {
      "cell_type": "code",
      "source": [
        "def sigmoid(x, deriv=False):\n",
        "    if deriv:\n",
        "        return x * (1 - x)\n",
        "    return scipy.special.expit(x)"
      ],
      "metadata": {
        "id": "jR4MwD_oKcsd"
      },
      "execution_count": 8,
      "outputs": []
    },
    {
      "cell_type": "code",
      "source": [
        "# Define variables\n",
        "n_samples = 1200\n",
        "iterations = 10000\n",
        "number_of_samples = np.int32(n_samples / 2)\n",
        "number_of_features = 2"
      ],
      "metadata": {
        "id": "weUJ2zfxKgDA"
      },
      "execution_count": 9,
      "outputs": []
    },
    {
      "cell_type": "code",
      "source": [
        "# Prepare the training and testing data \n",
        "X_data, Y_data = make_moons(noise=0.2, random_state=0, n_samples=n_samples)\n",
        "X_data = scale(X_data)\n",
        "X_data = X_data.astype(np.double)\n",
        "Y_data = Y_data.astype(np.double)\n",
        "X_train, X_test, Y_train, Y_test = train_test_split(X_data, Y_data, test_size=.5)\n",
        "Y_train = np.reshape(Y_train, [number_of_samples, 1])"
      ],
      "metadata": {
        "id": "FFGwYQQyKiKW"
      },
      "execution_count": 10,
      "outputs": []
    },
    {
      "cell_type": "code",
      "source": [
        "# Define weights\n",
        "w_l0 = 2 * np.random.random((number_of_features, number_of_samples)) - 1\n",
        "w_l1 = 2 * np.random.random((number_of_samples, 1)) - 1\n",
        "# Define the 3 layers of the network\n",
        "l0 = []\n",
        "l1 = []\n",
        "l2 = []"
      ],
      "metadata": {
        "id": "9cWtkOo2Kj8H"
      },
      "execution_count": 11,
      "outputs": []
    },
    {
      "cell_type": "code",
      "source": [
        "for index in range(iterations):\n",
        "    # The first layer is defined by the training data\n",
        "    l0 = X_train\n",
        "\n",
        "    # The second and third layer is the result of the sigmoid function with the weights in the first and second layer \n",
        "    l1 = sigmoid(np.dot(l0, w_l0))\n",
        "    l2 = sigmoid(np.dot(l1, w_l1))\n",
        "\n",
        "    # Calculate the error compared to the training data \n",
        "    l2_error = Y_train - l2\n",
        "    if (index % 1000) == 0:\n",
        "        print(\"Loss:\" + str(np.mean(np.abs(l2_error))))\n",
        "\n",
        "    # Calculate network error\n",
        "    l2_delta = l2_error * sigmoid(l2)\n",
        "    l1_error = l2_delta.dot(w_l1.T)\n",
        "    l1_delta = l1_error * sigmoid(l1)\n",
        "\n",
        "    # Update the weights to minimize the error compared to the training data\n",
        "    w_l0 += l0.T.dot(l1_delta)\n",
        "    w_l1 += l1.T.dot(l2_delta)"
      ],
      "metadata": {
        "colab": {
          "base_uri": "https://localhost:8080/"
        },
        "id": "U_6fbkTeKoH8",
        "outputId": "3c3d15dd-0074-4f6a-8b17-5f4db76676c6"
      },
      "execution_count": 12,
      "outputs": [
        {
          "output_type": "stream",
          "name": "stdout",
          "text": [
            "Loss:0.22347290461399794\n",
            "Loss:0.13000000000103806\n",
            "Loss:0.13166666666666665\n",
            "Loss:0.299998766642782\n",
            "Loss:0.20156510086872512\n",
            "Loss:0.16166667274142207\n",
            "Loss:0.12666666666666668\n",
            "Loss:0.12833333333333333\n",
            "Loss:0.135\n",
            "Loss:0.13\n"
          ]
        }
      ]
    },
    {
      "cell_type": "code",
      "source": [
        "# Check the accuracy \n",
        "y_pred = l2\n",
        "y_pred[y_pred <= 0.5] = 0\n",
        "y_pred[y_pred > 0.5] = 1\n",
        "\n",
        "l0 = X_test\n",
        "l1 = sigmoid(np.dot(l0, w_l0))\n",
        "l2 = sigmoid(np.dot(l1, w_l1))\n",
        "\n",
        "y_pred_test = l2\n",
        "y_pred_test[y_pred_test <= 0.5] = 0\n",
        "y_pred_test[y_pred_test > 0.5] = 1"
      ],
      "metadata": {
        "id": "ATXfgc8CKqcN"
      },
      "execution_count": 13,
      "outputs": []
    },
    {
      "cell_type": "code",
      "source": [
        "print(\"Accuracy on train data: \", (Y_train == y_pred).mean())\n",
        "print(\"Accuracy on test data: \", (Y_test == y_pred_test).mean())"
      ],
      "metadata": {
        "colab": {
          "base_uri": "https://localhost:8080/"
        },
        "id": "0ws96O6hKsfA",
        "outputId": "ad19cf78-6e32-46c9-dd95-aeb78b72032e"
      },
      "execution_count": 14,
      "outputs": [
        {
          "output_type": "stream",
          "name": "stdout",
          "text": [
            "Accuracy on train data:  0.87\n",
            "Accuracy on test data:  0.4918888888888889\n"
          ]
        }
      ]
    },
    {
      "cell_type": "markdown",
      "source": [
        "Classic Neural Network - Multiclass classification"
      ],
      "metadata": {
        "id": "RyOpzvuaLVSe"
      }
    },
    {
      "cell_type": "code",
      "source": [
        "import scipy\n",
        "from sklearn.datasets import load_iris"
      ],
      "metadata": {
        "id": "-7HmwNiMKy4T"
      },
      "execution_count": 15,
      "outputs": []
    },
    {
      "cell_type": "code",
      "source": [
        "def sigmoid(x, deriv=False):\n",
        "    if deriv:\n",
        "        return x * (1 - x)\n",
        "    return scipy.special.expit(x)"
      ],
      "metadata": {
        "id": "Nqt3Y14lK0rb"
      },
      "execution_count": 16,
      "outputs": []
    },
    {
      "cell_type": "code",
      "source": [
        "# Define variables\n",
        "n_samples = 150\n",
        "iterations = 10000\n",
        "number_of_samples = np.int32(n_samples / 2)\n",
        "number_of_features = 2"
      ],
      "metadata": {
        "id": "4Pj2AgglK2pg"
      },
      "execution_count": 17,
      "outputs": []
    },
    {
      "cell_type": "code",
      "source": [
        "# Prepare training and testing data\n",
        "iris = load_iris()\n",
        "X_data = iris.data[:, :2]\n",
        "Y_data = iris.target\n",
        "X_data = scale(X_data)\n",
        "X_data = X_data.astype(float)\n",
        "Y_data = Y_data.astype(float)\n",
        "X_train, X_test, Y_train, Y_test = train_test_split(X_data, Y_data, test_size=.5)\n",
        "Y_train = np.reshape(Y_train, [number_of_samples, 1])"
      ],
      "metadata": {
        "id": "eHPcW3ZcK4j1"
      },
      "execution_count": 18,
      "outputs": []
    },
    {
      "cell_type": "code",
      "source": [
        "# Define weights\n",
        "w_l0 = 2 * np.random.random((number_of_features, number_of_samples)) - 1\n",
        "w_l1 = 2 * np.random.random((number_of_samples, 1)) - 1\n",
        "# Define network layers\n",
        "l0 = []\n",
        "l1 = []\n",
        "l2 = []"
      ],
      "metadata": {
        "id": "m4bRl0wVK6bB"
      },
      "execution_count": 19,
      "outputs": []
    },
    {
      "cell_type": "code",
      "source": [
        "for index in range(iterations):\n",
        "  # The first layer is represented by the training data\n",
        "  l0 = X_train\n",
        "  # The second and third layer is the result of the sigmoid function with the weights in the first and second layer\n",
        "  l1 = sigmoid(np.dot(l0, w_l0))\n",
        "  l2 = sigmoid(np.dot(l1, w_l1))\n",
        "  \n",
        "  # The error compared to the training data \n",
        "  l2_error = Y_train - l2\n",
        "  if (index % 1000) == 0:\n",
        "    print(\"Loss:\" + str(np.mean(np.abs(l2_error))))\n",
        "\n",
        "  # Network error\n",
        "  l2_delta = l2_error * sigmoid(l2)\n",
        "  l1_error = l2_delta.dot(w_l1.T)\n",
        "  l1_delta = l1_error * sigmoid(l1)\n",
        "  \n",
        "  # Update the weights to minimize the error compared to the training data \n",
        "  w_l1 += l1.T.dot(l2_delta)\n",
        "  w_l0 += l0.T.dot(l1_delta)"
      ],
      "metadata": {
        "colab": {
          "base_uri": "https://localhost:8080/"
        },
        "id": "nPH42vmyK8df",
        "outputId": "1f9f2c00-5b35-4b00-fec8-b8d2e059a0ec"
      },
      "execution_count": 20,
      "outputs": [
        {
          "output_type": "stream",
          "name": "stdout",
          "text": [
            "Loss:0.7981589028478003\n",
            "Loss:0.39186999647699194\n",
            "Loss:0.39186999647699194\n",
            "Loss:0.39186999647699194\n",
            "Loss:0.39186999647699194\n",
            "Loss:0.39186999647699194\n",
            "Loss:0.39186999555007135\n",
            "Loss:0.3490598303082677\n",
            "Loss:0.3490598290598291\n",
            "Loss:0.3490598290598291\n"
          ]
        }
      ]
    },
    {
      "cell_type": "code",
      "source": [
        "# Check accuracy\n",
        "y_pred_train = l2\n",
        "y_pred_train[y_pred_train <= 3] = 2\n",
        "y_pred_train[y_pred_train <= 2] = 1\n",
        "y_pred_train[y_pred_train <= 1] = 0\n",
        "\n",
        "l0 = X_test\n",
        "l1 = sigmoid(np.dot(l0, w_l0))\n",
        "l2 = sigmoid(np.dot(l1, w_l1))\n",
        "\n",
        "y_pred_test = l2\n",
        "y_pred_test[y_pred_test <= 3] = 2\n",
        "y_pred_test[y_pred_test <= 2] = 1\n",
        "y_pred_test[y_pred_test <= 1] = 0\n",
        "\n",
        "print(\"Accuracy on train data: \", (Y_train == y_pred_train).mean())\n",
        "print(\"Accuracy on test data: \", (Y_test == y_pred_test).mean())"
      ],
      "metadata": {
        "colab": {
          "base_uri": "https://localhost:8080/"
        },
        "id": "BBsZEnNvK_FE",
        "outputId": "ae23471c-e8a1-4de9-b213-08284d8c06dc"
      },
      "execution_count": 21,
      "outputs": [
        {
          "output_type": "stream",
          "name": "stdout",
          "text": [
            "Accuracy on train data:  0.4666666666666667\n",
            "Accuracy on test data:  0.2\n"
          ]
        }
      ]
    }
  ]
}